{
 "cells": [
  {
   "cell_type": "markdown",
   "id": "583899c4-162d-43c8-8105-9a9ba49f8c45",
   "metadata": {},
   "source": [
    "Sraavika Vaddadi \n",
    "<br> \n",
    "11/6/24"
   ]
  },
  {
   "cell_type": "markdown",
   "id": "e8a58422-6a5f-4fc3-a947-d15224ded042",
   "metadata": {},
   "source": [
    "# **Analysis of Geopolitical Events on Oil Prices**\n",
    "## Part 2 - Data Cleaning and Pre-Processing"
   ]
  },
  {
   "cell_type": "code",
   "execution_count": 3,
   "id": "7022cc47-9c55-4c28-9504-e0214983141d",
   "metadata": {},
   "outputs": [],
   "source": [
    "import pandas as pd\n",
    "import numpy as np\n",
    "import requests\n",
    "import json"
   ]
  },
  {
   "cell_type": "markdown",
   "id": "63a0a12f-2f9f-4c75-83dd-199f5cb3bf56",
   "metadata": {},
   "source": [
    "## Import GPR and EIA data files"
   ]
  },
  {
   "cell_type": "code",
   "execution_count": 5,
   "id": "bf1caec7-ec69-49be-8c19-4f33d32937ca",
   "metadata": {},
   "outputs": [
    {
     "name": "stdout",
     "output_type": "stream",
     "text": [
      "(1499, 115)\n"
     ]
    }
   ],
   "source": [
    "# Import GPR index data from CSV into a dataframe \n",
    "\n",
    "gpr_index = pd.read_csv('data_gpr_export.csv', encoding = 'utf-8')\n",
    "print(gpr_index.shape)"
   ]
  },
  {
   "cell_type": "code",
   "execution_count": 6,
   "id": "71e7c8cb-de99-4742-9e89-11ea3f6a5b4c",
   "metadata": {},
   "outputs": [
    {
     "name": "stdout",
     "output_type": "stream",
     "text": [
      "(918, 11)\n"
     ]
    }
   ],
   "source": [
    "# Import crude price data from CSV into a dataframe \n",
    "\n",
    "price_data = pd.read_csv('price_data_raw.csv', encoding = 'utf-8')\n",
    "print(price_data.shape)"
   ]
  },
  {
   "cell_type": "markdown",
   "id": "5a5176d6-05ef-45f0-ba5b-33328b862ea6",
   "metadata": {},
   "source": [
    "## GPR Data Cleaning"
   ]
  },
  {
   "cell_type": "code",
   "execution_count": 8,
   "id": "b49b3047-7429-4870-8b33-4ee02b56158d",
   "metadata": {},
   "outputs": [],
   "source": [
    "# Include only necessary columns \n",
    "\n",
    "gpr_index = gpr_index[['month', 'GPR', 'GPRT', 'GPRA', 'N10', 'SHARE_GPR', 'SHAREH_CAT_1', 'SHAREH_CAT_2', 'SHAREH_CAT_3', 'SHAREH_CAT_4', 'SHAREH_CAT_5', 'SHAREH_CAT_6', 'SHAREH_CAT_7', 'SHAREH_CAT_8']]"
   ]
  },
  {
   "cell_type": "code",
   "execution_count": 9,
   "id": "c6d949b1-bc6f-48d9-a52f-a1785979a1e7",
   "metadata": {},
   "outputs": [],
   "source": [
    "# rename columns \n",
    "\n",
    "gpr_index = gpr_index.rename(columns={\n",
    "    'month': 'period',\n",
    "    'GPRT': 'gpr_threats',\n",
    "    'GPRA': 'gpr_acts',\n",
    "    'SHARE_GPR': 'gpr_article_proportion',\n",
    "    'N10': 'total_articles',\n",
    "    'SHAREH_CAT_1': 'cat_1',\n",
    "    'SHAREH_CAT_2': 'cat_2',\n",
    "    'SHAREH_CAT_3': 'cat_3',\n",
    "    'SHAREH_CAT_4': 'cat_4',\n",
    "    'SHAREH_CAT_5': 'cat_5',\n",
    "    'SHAREH_CAT_6': 'cat_6',\n",
    "    'SHAREH_CAT_7': 'cat_7', \n",
    "    'SHAREH_CAT_8': 'cat_8'})"
   ]
  },
  {
   "cell_type": "code",
   "execution_count": 10,
   "id": "159c64a6-4f54-44e9-8b87-c6a895cf812a",
   "metadata": {},
   "outputs": [
    {
     "name": "stdout",
     "output_type": "stream",
     "text": [
      "period                     object\n",
      "GPR                       float64\n",
      "gpr_threats               float64\n",
      "gpr_acts                  float64\n",
      "total_articles            float64\n",
      "gpr_article_proportion    float64\n",
      "cat_1                     float64\n",
      "cat_2                     float64\n",
      "cat_3                     float64\n",
      "cat_4                     float64\n",
      "cat_5                     float64\n",
      "cat_6                     float64\n",
      "cat_7                     float64\n",
      "cat_8                     float64\n",
      "dtype: object\n"
     ]
    }
   ],
   "source": [
    "# identify column datatypes\n",
    "\n",
    "print(gpr_index.dtypes)"
   ]
  },
  {
   "cell_type": "code",
   "execution_count": 11,
   "id": "a19f206e-f4ca-4e65-b0e9-4e340af4763a",
   "metadata": {},
   "outputs": [],
   "source": [
    "# change month column to date time format \n",
    "\n",
    "gpr_index['period'] = pd.to_datetime(gpr_index['period'])"
   ]
  },
  {
   "cell_type": "code",
   "execution_count": 12,
   "id": "164c6ad5-73a9-470c-9698-ace611ff6c7c",
   "metadata": {},
   "outputs": [],
   "source": [
    "# filter to include records only from May 1986\n",
    "\n",
    "gpr_index = gpr_index[gpr_index['period'] >= '1987-05-01']"
   ]
  },
  {
   "cell_type": "code",
   "execution_count": 13,
   "id": "3a43aa58-d146-464a-90f7-ac775bd080cb",
   "metadata": {},
   "outputs": [],
   "source": [
    "# convert GPR to a logarithmic scale \n",
    "\n",
    "gpr_index['log_GPR'] = np.log(gpr_index['GPR'])"
   ]
  },
  {
   "cell_type": "code",
   "execution_count": 14,
   "id": "1eeffe9b-45dd-40e8-a081-4696bed492a8",
   "metadata": {},
   "outputs": [],
   "source": [
    "# normalize gpr data to make it on a scale of 0 to 1\n",
    "\n",
    "gpr_index['normalized_gpr'] = (gpr_index['log_GPR'] - gpr_index['log_GPR'].min()) / (gpr_index['log_GPR'].max() - gpr_index['log_GPR'].min())"
   ]
  },
  {
   "cell_type": "code",
   "execution_count": 15,
   "id": "4df26f8a-c061-4eb1-98c5-d7b202974638",
   "metadata": {},
   "outputs": [
    {
     "data": {
      "text/html": [
       "<div>\n",
       "<style scoped>\n",
       "    .dataframe tbody tr th:only-of-type {\n",
       "        vertical-align: middle;\n",
       "    }\n",
       "\n",
       "    .dataframe tbody tr th {\n",
       "        vertical-align: top;\n",
       "    }\n",
       "\n",
       "    .dataframe thead th {\n",
       "        text-align: right;\n",
       "    }\n",
       "</style>\n",
       "<table border=\"1\" class=\"dataframe\">\n",
       "  <thead>\n",
       "    <tr style=\"text-align: right;\">\n",
       "      <th></th>\n",
       "      <th>period</th>\n",
       "      <th>GPR</th>\n",
       "      <th>gpr_threats</th>\n",
       "      <th>gpr_acts</th>\n",
       "      <th>total_articles</th>\n",
       "      <th>gpr_article_proportion</th>\n",
       "      <th>cat_1</th>\n",
       "      <th>cat_2</th>\n",
       "      <th>cat_3</th>\n",
       "      <th>cat_4</th>\n",
       "      <th>cat_5</th>\n",
       "      <th>cat_6</th>\n",
       "      <th>cat_7</th>\n",
       "      <th>cat_8</th>\n",
       "      <th>log_GPR</th>\n",
       "      <th>normalized_gpr</th>\n",
       "    </tr>\n",
       "  </thead>\n",
       "  <tbody>\n",
       "    <tr>\n",
       "      <th>1048</th>\n",
       "      <td>1987-05-01</td>\n",
       "      <td>98.65</td>\n",
       "      <td>97.37</td>\n",
       "      <td>95.24</td>\n",
       "      <td>17405.0</td>\n",
       "      <td>2.96</td>\n",
       "      <td>0.36</td>\n",
       "      <td>0.07</td>\n",
       "      <td>0.61</td>\n",
       "      <td>0.75</td>\n",
       "      <td>0.20</td>\n",
       "      <td>0.49</td>\n",
       "      <td>0.48</td>\n",
       "      <td>0.52</td>\n",
       "      <td>4.591578</td>\n",
       "      <td>0.359965</td>\n",
       "    </tr>\n",
       "    <tr>\n",
       "      <th>1049</th>\n",
       "      <td>1987-06-01</td>\n",
       "      <td>94.18</td>\n",
       "      <td>99.83</td>\n",
       "      <td>81.83</td>\n",
       "      <td>16921.0</td>\n",
       "      <td>2.82</td>\n",
       "      <td>0.40</td>\n",
       "      <td>0.02</td>\n",
       "      <td>0.94</td>\n",
       "      <td>0.57</td>\n",
       "      <td>0.10</td>\n",
       "      <td>0.34</td>\n",
       "      <td>0.43</td>\n",
       "      <td>0.44</td>\n",
       "      <td>4.545208</td>\n",
       "      <td>0.341954</td>\n",
       "    </tr>\n",
       "    <tr>\n",
       "      <th>1050</th>\n",
       "      <td>1987-07-01</td>\n",
       "      <td>98.87</td>\n",
       "      <td>107.53</td>\n",
       "      <td>88.26</td>\n",
       "      <td>16894.0</td>\n",
       "      <td>2.97</td>\n",
       "      <td>0.24</td>\n",
       "      <td>0.04</td>\n",
       "      <td>0.99</td>\n",
       "      <td>0.64</td>\n",
       "      <td>0.26</td>\n",
       "      <td>0.35</td>\n",
       "      <td>0.47</td>\n",
       "      <td>0.65</td>\n",
       "      <td>4.593806</td>\n",
       "      <td>0.360830</td>\n",
       "    </tr>\n",
       "    <tr>\n",
       "      <th>1051</th>\n",
       "      <td>1987-08-01</td>\n",
       "      <td>99.97</td>\n",
       "      <td>115.48</td>\n",
       "      <td>87.60</td>\n",
       "      <td>16642.0</td>\n",
       "      <td>3.00</td>\n",
       "      <td>0.46</td>\n",
       "      <td>0.09</td>\n",
       "      <td>1.02</td>\n",
       "      <td>0.60</td>\n",
       "      <td>0.25</td>\n",
       "      <td>0.57</td>\n",
       "      <td>0.47</td>\n",
       "      <td>0.46</td>\n",
       "      <td>4.604870</td>\n",
       "      <td>0.365128</td>\n",
       "    </tr>\n",
       "    <tr>\n",
       "      <th>1052</th>\n",
       "      <td>1987-09-01</td>\n",
       "      <td>121.17</td>\n",
       "      <td>143.45</td>\n",
       "      <td>97.54</td>\n",
       "      <td>17335.0</td>\n",
       "      <td>3.63</td>\n",
       "      <td>0.63</td>\n",
       "      <td>0.09</td>\n",
       "      <td>1.18</td>\n",
       "      <td>1.01</td>\n",
       "      <td>0.22</td>\n",
       "      <td>0.65</td>\n",
       "      <td>0.61</td>\n",
       "      <td>0.42</td>\n",
       "      <td>4.797195</td>\n",
       "      <td>0.439831</td>\n",
       "    </tr>\n",
       "  </tbody>\n",
       "</table>\n",
       "</div>"
      ],
      "text/plain": [
       "         period     GPR  gpr_threats  gpr_acts  total_articles  \\\n",
       "1048 1987-05-01   98.65        97.37     95.24         17405.0   \n",
       "1049 1987-06-01   94.18        99.83     81.83         16921.0   \n",
       "1050 1987-07-01   98.87       107.53     88.26         16894.0   \n",
       "1051 1987-08-01   99.97       115.48     87.60         16642.0   \n",
       "1052 1987-09-01  121.17       143.45     97.54         17335.0   \n",
       "\n",
       "      gpr_article_proportion  cat_1  cat_2  cat_3  cat_4  cat_5  cat_6  cat_7  \\\n",
       "1048                    2.96   0.36   0.07   0.61   0.75   0.20   0.49   0.48   \n",
       "1049                    2.82   0.40   0.02   0.94   0.57   0.10   0.34   0.43   \n",
       "1050                    2.97   0.24   0.04   0.99   0.64   0.26   0.35   0.47   \n",
       "1051                    3.00   0.46   0.09   1.02   0.60   0.25   0.57   0.47   \n",
       "1052                    3.63   0.63   0.09   1.18   1.01   0.22   0.65   0.61   \n",
       "\n",
       "      cat_8   log_GPR  normalized_gpr  \n",
       "1048   0.52  4.591578        0.359965  \n",
       "1049   0.44  4.545208        0.341954  \n",
       "1050   0.65  4.593806        0.360830  \n",
       "1051   0.46  4.604870        0.365128  \n",
       "1052   0.42  4.797195        0.439831  "
      ]
     },
     "metadata": {},
     "output_type": "display_data"
    },
    {
     "name": "stdout",
     "output_type": "stream",
     "text": [
      "(451, 16)\n"
     ]
    }
   ],
   "source": [
    "# view dataframe after cleaning\n",
    "\n",
    "display(gpr_index.head())\n",
    "print(gpr_index.shape)"
   ]
  },
  {
   "cell_type": "markdown",
   "id": "c8028ab1-7c9a-49c5-9801-d1ed98d84b0c",
   "metadata": {},
   "source": [
    "## EIA Data Cleaning"
   ]
  },
  {
   "cell_type": "code",
   "execution_count": 17,
   "id": "a0b077c3-5430-4e70-93bb-82b1ccc7c6ad",
   "metadata": {},
   "outputs": [],
   "source": [
    "# include only necessary columns\n",
    "\n",
    "price_data = price_data[['period', 'product-name', 'value']]"
   ]
  },
  {
   "cell_type": "code",
   "execution_count": 18,
   "id": "41e92f11-554a-4183-94ee-251577dcdce0",
   "metadata": {},
   "outputs": [],
   "source": [
    "# rename columns \n",
    "\n",
    "price_data = price_data.rename(columns = {'product-name': 'product', 'value': 'price'})"
   ]
  },
  {
   "cell_type": "code",
   "execution_count": 19,
   "id": "3a6e61ad-126e-422d-8e73-6b0cc9d1c7be",
   "metadata": {},
   "outputs": [
    {
     "name": "stdout",
     "output_type": "stream",
     "text": [
      "period      object\n",
      "product     object\n",
      "price      float64\n",
      "dtype: object\n"
     ]
    }
   ],
   "source": [
    "# identify column datatypes\n",
    "\n",
    "print(price_data.dtypes)"
   ]
  },
  {
   "cell_type": "code",
   "execution_count": 20,
   "id": "c912e161-643d-46fb-a950-e82da511fc83",
   "metadata": {},
   "outputs": [],
   "source": [
    "# change period column to date time format \n",
    "\n",
    "price_data['period'] = pd.to_datetime(price_data['period'])"
   ]
  },
  {
   "cell_type": "code",
   "execution_count": 21,
   "id": "60514bc2-0ab5-4f80-b95f-20ee8c01b7dc",
   "metadata": {},
   "outputs": [],
   "source": [
    "# filter to include records only from May 1987\n",
    "\n",
    "price_data = price_data[price_data['period'] >= '1987-05-01']"
   ]
  },
  {
   "cell_type": "code",
   "execution_count": 22,
   "id": "0dec763f-2f6c-48b4-b3b5-5e45378c918b",
   "metadata": {},
   "outputs": [],
   "source": [
    "# convert prices to a logarithmic scale\n",
    "\n",
    "price_data['log_price'] = np.log(price_data['price'])"
   ]
  },
  {
   "cell_type": "code",
   "execution_count": 23,
   "id": "6529e476-827d-4cb4-ad9e-a4be2ddc8139",
   "metadata": {},
   "outputs": [],
   "source": [
    "# normalize log price data to make it on a scale of 0 to 1\n",
    "\n",
    "price_data['normalized_price'] = (price_data['log_price'] - price_data['log_price'].min()) / (price_data['log_price'].max() - price_data['log_price'].min())"
   ]
  },
  {
   "cell_type": "code",
   "execution_count": 24,
   "id": "5f76ccf9-f973-432d-be42-970ecd6f16c6",
   "metadata": {},
   "outputs": [
    {
     "data": {
      "text/html": [
       "<div>\n",
       "<style scoped>\n",
       "    .dataframe tbody tr th:only-of-type {\n",
       "        vertical-align: middle;\n",
       "    }\n",
       "\n",
       "    .dataframe tbody tr th {\n",
       "        vertical-align: top;\n",
       "    }\n",
       "\n",
       "    .dataframe thead th {\n",
       "        text-align: right;\n",
       "    }\n",
       "</style>\n",
       "<table border=\"1\" class=\"dataframe\">\n",
       "  <thead>\n",
       "    <tr style=\"text-align: right;\">\n",
       "      <th></th>\n",
       "      <th>period</th>\n",
       "      <th>product</th>\n",
       "      <th>price</th>\n",
       "      <th>log_price</th>\n",
       "      <th>normalized_price</th>\n",
       "    </tr>\n",
       "  </thead>\n",
       "  <tbody>\n",
       "    <tr>\n",
       "      <th>0</th>\n",
       "      <td>2024-11-01</td>\n",
       "      <td>WTI Crude Oil</td>\n",
       "      <td>69.95</td>\n",
       "      <td>4.247781</td>\n",
       "      <td>0.751519</td>\n",
       "    </tr>\n",
       "    <tr>\n",
       "      <th>1</th>\n",
       "      <td>2024-11-01</td>\n",
       "      <td>UK Brent Crude Oil</td>\n",
       "      <td>74.35</td>\n",
       "      <td>4.308784</td>\n",
       "      <td>0.774869</td>\n",
       "    </tr>\n",
       "    <tr>\n",
       "      <th>2</th>\n",
       "      <td>2024-10-01</td>\n",
       "      <td>WTI Crude Oil</td>\n",
       "      <td>71.99</td>\n",
       "      <td>4.276527</td>\n",
       "      <td>0.762522</td>\n",
       "    </tr>\n",
       "    <tr>\n",
       "      <th>3</th>\n",
       "      <td>2024-10-01</td>\n",
       "      <td>UK Brent Crude Oil</td>\n",
       "      <td>75.63</td>\n",
       "      <td>4.325853</td>\n",
       "      <td>0.781403</td>\n",
       "    </tr>\n",
       "    <tr>\n",
       "      <th>4</th>\n",
       "      <td>2024-09-01</td>\n",
       "      <td>UK Brent Crude Oil</td>\n",
       "      <td>74.02</td>\n",
       "      <td>4.304335</td>\n",
       "      <td>0.773166</td>\n",
       "    </tr>\n",
       "    <tr>\n",
       "      <th>...</th>\n",
       "      <td>...</td>\n",
       "      <td>...</td>\n",
       "      <td>...</td>\n",
       "      <td>...</td>\n",
       "      <td>...</td>\n",
       "    </tr>\n",
       "    <tr>\n",
       "      <th>897</th>\n",
       "      <td>1987-07-01</td>\n",
       "      <td>UK Brent Crude Oil</td>\n",
       "      <td>19.86</td>\n",
       "      <td>2.988708</td>\n",
       "      <td>0.269581</td>\n",
       "    </tr>\n",
       "    <tr>\n",
       "      <th>898</th>\n",
       "      <td>1987-06-01</td>\n",
       "      <td>WTI Crude Oil</td>\n",
       "      <td>20.07</td>\n",
       "      <td>2.999226</td>\n",
       "      <td>0.273607</td>\n",
       "    </tr>\n",
       "    <tr>\n",
       "      <th>899</th>\n",
       "      <td>1987-06-01</td>\n",
       "      <td>UK Brent Crude Oil</td>\n",
       "      <td>18.86</td>\n",
       "      <td>2.937043</td>\n",
       "      <td>0.249805</td>\n",
       "    </tr>\n",
       "    <tr>\n",
       "      <th>900</th>\n",
       "      <td>1987-05-01</td>\n",
       "      <td>UK Brent Crude Oil</td>\n",
       "      <td>18.58</td>\n",
       "      <td>2.922086</td>\n",
       "      <td>0.244080</td>\n",
       "    </tr>\n",
       "    <tr>\n",
       "      <th>901</th>\n",
       "      <td>1987-05-01</td>\n",
       "      <td>WTI Crude Oil</td>\n",
       "      <td>19.44</td>\n",
       "      <td>2.967333</td>\n",
       "      <td>0.261399</td>\n",
       "    </tr>\n",
       "  </tbody>\n",
       "</table>\n",
       "<p>902 rows × 5 columns</p>\n",
       "</div>"
      ],
      "text/plain": [
       "        period             product  price  log_price  normalized_price\n",
       "0   2024-11-01       WTI Crude Oil  69.95   4.247781          0.751519\n",
       "1   2024-11-01  UK Brent Crude Oil  74.35   4.308784          0.774869\n",
       "2   2024-10-01       WTI Crude Oil  71.99   4.276527          0.762522\n",
       "3   2024-10-01  UK Brent Crude Oil  75.63   4.325853          0.781403\n",
       "4   2024-09-01  UK Brent Crude Oil  74.02   4.304335          0.773166\n",
       "..         ...                 ...    ...        ...               ...\n",
       "897 1987-07-01  UK Brent Crude Oil  19.86   2.988708          0.269581\n",
       "898 1987-06-01       WTI Crude Oil  20.07   2.999226          0.273607\n",
       "899 1987-06-01  UK Brent Crude Oil  18.86   2.937043          0.249805\n",
       "900 1987-05-01  UK Brent Crude Oil  18.58   2.922086          0.244080\n",
       "901 1987-05-01       WTI Crude Oil  19.44   2.967333          0.261399\n",
       "\n",
       "[902 rows x 5 columns]"
      ]
     },
     "metadata": {},
     "output_type": "display_data"
    },
    {
     "name": "stdout",
     "output_type": "stream",
     "text": [
      "(902, 5)\n"
     ]
    }
   ],
   "source": [
    "# view dataframe after cleaning\n",
    "\n",
    "display(price_data)\n",
    "print(price_data.shape)"
   ]
  },
  {
   "cell_type": "code",
   "execution_count": 25,
   "id": "e3eb3a5c-d053-44e5-bf60-816cefa91b20",
   "metadata": {},
   "outputs": [],
   "source": [
    "# save cleaned wti and brent data to a new csv \n",
    "\n",
    "price_data.to_csv('price_data.csv', header = True, index = False, encoding = 'utf-8')"
   ]
  },
  {
   "cell_type": "markdown",
   "id": "c3887a27-c3ea-4e10-b5f0-c3a8236490a3",
   "metadata": {},
   "source": [
    "## Merge Pricing and GPR Data "
   ]
  },
  {
   "cell_type": "code",
   "execution_count": 27,
   "id": "63150ae7-bd28-4bec-abe6-969f62c7b62f",
   "metadata": {},
   "outputs": [
    {
     "data": {
      "text/html": [
       "<div>\n",
       "<style scoped>\n",
       "    .dataframe tbody tr th:only-of-type {\n",
       "        vertical-align: middle;\n",
       "    }\n",
       "\n",
       "    .dataframe tbody tr th {\n",
       "        vertical-align: top;\n",
       "    }\n",
       "\n",
       "    .dataframe thead th {\n",
       "        text-align: right;\n",
       "    }\n",
       "</style>\n",
       "<table border=\"1\" class=\"dataframe\">\n",
       "  <thead>\n",
       "    <tr style=\"text-align: right;\">\n",
       "      <th></th>\n",
       "      <th>period</th>\n",
       "      <th>GPR</th>\n",
       "      <th>gpr_threats</th>\n",
       "      <th>gpr_acts</th>\n",
       "      <th>total_articles</th>\n",
       "      <th>gpr_article_proportion</th>\n",
       "      <th>cat_1</th>\n",
       "      <th>cat_2</th>\n",
       "      <th>cat_3</th>\n",
       "      <th>cat_4</th>\n",
       "      <th>cat_5</th>\n",
       "      <th>cat_6</th>\n",
       "      <th>cat_7</th>\n",
       "      <th>cat_8</th>\n",
       "      <th>log_GPR</th>\n",
       "      <th>normalized_gpr</th>\n",
       "      <th>product</th>\n",
       "      <th>price</th>\n",
       "      <th>log_price</th>\n",
       "      <th>normalized_price</th>\n",
       "    </tr>\n",
       "  </thead>\n",
       "  <tbody>\n",
       "    <tr>\n",
       "      <th>0</th>\n",
       "      <td>1987-05-01</td>\n",
       "      <td>98.65</td>\n",
       "      <td>97.37</td>\n",
       "      <td>95.24</td>\n",
       "      <td>17405.0</td>\n",
       "      <td>2.96</td>\n",
       "      <td>0.36</td>\n",
       "      <td>0.07</td>\n",
       "      <td>0.61</td>\n",
       "      <td>0.75</td>\n",
       "      <td>0.20</td>\n",
       "      <td>0.49</td>\n",
       "      <td>0.48</td>\n",
       "      <td>0.52</td>\n",
       "      <td>4.591578</td>\n",
       "      <td>0.359965</td>\n",
       "      <td>UK Brent Crude Oil</td>\n",
       "      <td>18.58</td>\n",
       "      <td>2.922086</td>\n",
       "      <td>0.244080</td>\n",
       "    </tr>\n",
       "    <tr>\n",
       "      <th>1</th>\n",
       "      <td>1987-05-01</td>\n",
       "      <td>98.65</td>\n",
       "      <td>97.37</td>\n",
       "      <td>95.24</td>\n",
       "      <td>17405.0</td>\n",
       "      <td>2.96</td>\n",
       "      <td>0.36</td>\n",
       "      <td>0.07</td>\n",
       "      <td>0.61</td>\n",
       "      <td>0.75</td>\n",
       "      <td>0.20</td>\n",
       "      <td>0.49</td>\n",
       "      <td>0.48</td>\n",
       "      <td>0.52</td>\n",
       "      <td>4.591578</td>\n",
       "      <td>0.359965</td>\n",
       "      <td>WTI Crude Oil</td>\n",
       "      <td>19.44</td>\n",
       "      <td>2.967333</td>\n",
       "      <td>0.261399</td>\n",
       "    </tr>\n",
       "    <tr>\n",
       "      <th>2</th>\n",
       "      <td>1987-06-01</td>\n",
       "      <td>94.18</td>\n",
       "      <td>99.83</td>\n",
       "      <td>81.83</td>\n",
       "      <td>16921.0</td>\n",
       "      <td>2.82</td>\n",
       "      <td>0.40</td>\n",
       "      <td>0.02</td>\n",
       "      <td>0.94</td>\n",
       "      <td>0.57</td>\n",
       "      <td>0.10</td>\n",
       "      <td>0.34</td>\n",
       "      <td>0.43</td>\n",
       "      <td>0.44</td>\n",
       "      <td>4.545208</td>\n",
       "      <td>0.341954</td>\n",
       "      <td>WTI Crude Oil</td>\n",
       "      <td>20.07</td>\n",
       "      <td>2.999226</td>\n",
       "      <td>0.273607</td>\n",
       "    </tr>\n",
       "    <tr>\n",
       "      <th>3</th>\n",
       "      <td>1987-06-01</td>\n",
       "      <td>94.18</td>\n",
       "      <td>99.83</td>\n",
       "      <td>81.83</td>\n",
       "      <td>16921.0</td>\n",
       "      <td>2.82</td>\n",
       "      <td>0.40</td>\n",
       "      <td>0.02</td>\n",
       "      <td>0.94</td>\n",
       "      <td>0.57</td>\n",
       "      <td>0.10</td>\n",
       "      <td>0.34</td>\n",
       "      <td>0.43</td>\n",
       "      <td>0.44</td>\n",
       "      <td>4.545208</td>\n",
       "      <td>0.341954</td>\n",
       "      <td>UK Brent Crude Oil</td>\n",
       "      <td>18.86</td>\n",
       "      <td>2.937043</td>\n",
       "      <td>0.249805</td>\n",
       "    </tr>\n",
       "    <tr>\n",
       "      <th>4</th>\n",
       "      <td>1987-07-01</td>\n",
       "      <td>98.87</td>\n",
       "      <td>107.53</td>\n",
       "      <td>88.26</td>\n",
       "      <td>16894.0</td>\n",
       "      <td>2.97</td>\n",
       "      <td>0.24</td>\n",
       "      <td>0.04</td>\n",
       "      <td>0.99</td>\n",
       "      <td>0.64</td>\n",
       "      <td>0.26</td>\n",
       "      <td>0.35</td>\n",
       "      <td>0.47</td>\n",
       "      <td>0.65</td>\n",
       "      <td>4.593806</td>\n",
       "      <td>0.360830</td>\n",
       "      <td>WTI Crude Oil</td>\n",
       "      <td>21.34</td>\n",
       "      <td>3.060583</td>\n",
       "      <td>0.297093</td>\n",
       "    </tr>\n",
       "  </tbody>\n",
       "</table>\n",
       "</div>"
      ],
      "text/plain": [
       "      period    GPR  gpr_threats  gpr_acts  total_articles  \\\n",
       "0 1987-05-01  98.65        97.37     95.24         17405.0   \n",
       "1 1987-05-01  98.65        97.37     95.24         17405.0   \n",
       "2 1987-06-01  94.18        99.83     81.83         16921.0   \n",
       "3 1987-06-01  94.18        99.83     81.83         16921.0   \n",
       "4 1987-07-01  98.87       107.53     88.26         16894.0   \n",
       "\n",
       "   gpr_article_proportion  cat_1  cat_2  cat_3  cat_4  cat_5  cat_6  cat_7  \\\n",
       "0                    2.96   0.36   0.07   0.61   0.75   0.20   0.49   0.48   \n",
       "1                    2.96   0.36   0.07   0.61   0.75   0.20   0.49   0.48   \n",
       "2                    2.82   0.40   0.02   0.94   0.57   0.10   0.34   0.43   \n",
       "3                    2.82   0.40   0.02   0.94   0.57   0.10   0.34   0.43   \n",
       "4                    2.97   0.24   0.04   0.99   0.64   0.26   0.35   0.47   \n",
       "\n",
       "   cat_8   log_GPR  normalized_gpr             product  price  log_price  \\\n",
       "0   0.52  4.591578        0.359965  UK Brent Crude Oil  18.58   2.922086   \n",
       "1   0.52  4.591578        0.359965       WTI Crude Oil  19.44   2.967333   \n",
       "2   0.44  4.545208        0.341954       WTI Crude Oil  20.07   2.999226   \n",
       "3   0.44  4.545208        0.341954  UK Brent Crude Oil  18.86   2.937043   \n",
       "4   0.65  4.593806        0.360830       WTI Crude Oil  21.34   3.060583   \n",
       "\n",
       "   normalized_price  \n",
       "0          0.244080  \n",
       "1          0.261399  \n",
       "2          0.273607  \n",
       "3          0.249805  \n",
       "4          0.297093  "
      ]
     },
     "metadata": {},
     "output_type": "display_data"
    },
    {
     "name": "stdout",
     "output_type": "stream",
     "text": [
      "(902, 20)\n"
     ]
    }
   ],
   "source": [
    "# merge gpr and wti price data \n",
    "\n",
    "gpr_price = pd.merge(gpr_index, price_data, on='period', how='inner')\n",
    "display(gpr_price.head())\n",
    "print(gpr_price.shape)"
   ]
  },
  {
   "cell_type": "code",
   "execution_count": 28,
   "id": "8287f817-317e-42c9-bbc9-98759b8b74c9",
   "metadata": {},
   "outputs": [],
   "source": [
    "# save the cleaned file into a new csv \n",
    "\n",
    "gpr_price.to_csv('gpr_price.csv', header = True, index = False, encoding = 'utf-8')\n"
   ]
  },
  {
   "cell_type": "code",
   "execution_count": null,
   "id": "831ee22f-fe23-4636-9e43-19410ddb0b3a",
   "metadata": {},
   "outputs": [],
   "source": []
  }
 ],
 "metadata": {
  "kernelspec": {
   "display_name": "Python 3 (ipykernel)",
   "language": "python",
   "name": "python3"
  },
  "language_info": {
   "codemirror_mode": {
    "name": "ipython",
    "version": 3
   },
   "file_extension": ".py",
   "mimetype": "text/x-python",
   "name": "python",
   "nbconvert_exporter": "python",
   "pygments_lexer": "ipython3",
   "version": "3.12.4"
  }
 },
 "nbformat": 4,
 "nbformat_minor": 5
}
