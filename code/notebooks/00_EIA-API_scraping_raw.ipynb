{
 "cells": [
  {
   "cell_type": "markdown",
   "id": "253e28b1-bbd0-4c1a-8bd0-117545642857",
   "metadata": {},
   "source": [
    "Sraavika Vaddadi \n",
    "<br> \n",
    "11/20/24"
   ]
  },
  {
   "cell_type": "markdown",
   "id": "1733fb12-edf2-40ae-9acf-37b3de653dcb",
   "metadata": {},
   "source": [
    "# **Analysis of Geopolitical Events on Oil Prices**\n",
    "## Part 1 - EIA API Scraping"
   ]
  },
  {
   "cell_type": "code",
   "execution_count": 3,
   "id": "cfeed544-23f0-4f3a-a150-cae9b57d556d",
   "metadata": {},
   "outputs": [],
   "source": [
    "import pandas as pd\n",
    "import requests\n",
    "import json"
   ]
  },
  {
   "cell_type": "code",
   "execution_count": 4,
   "id": "ff206596-c6d8-4126-a75e-4b37ffff5fa1",
   "metadata": {},
   "outputs": [
    {
     "name": "stdout",
     "output_type": "stream",
     "text": [
      "https://api.eia.gov/v2/petroleum/pri/spt/data/?frequency=monthly&data[0]=value&facets[product][]=EPCBRENT&facets[product][]=EPCWTI&start=1986-01&sort[0][column]=period&sort[0][direction]=desc&offset=0&length=5000&api_key=8EvTCYmGrMl1PwCwkil91betdRZgckegvQ4ZXm8s\n"
     ]
    }
   ],
   "source": [
    "# Create API url \n",
    "\n",
    "base_url = 'https://api.eia.gov/v2/petroleum/pri/spt/data/?frequency=monthly&data[0]=value&facets[product][]=EPCBRENT&facets[product][]=EPCWTI&start=1986-01&sort[0][column]=period&sort[0][direction]=desc&offset=0&length=5000'\n",
    "api_key = '8EvTCYmGrMl1PwCwkil91betdRZgckegvQ4ZXm8s'\n",
    "\n",
    "url = f'{base_url}&api_key={api_key}'\n",
    "print(url)"
   ]
  },
  {
   "cell_type": "code",
   "execution_count": 5,
   "id": "bf1b6591-b237-4b44-becc-63d68823e098",
   "metadata": {},
   "outputs": [],
   "source": [
    "# Request EIA API for data \n",
    "\n",
    "response = requests.get(url)\n",
    "\n",
    "if response.status_code == 200:\n",
    "    eia_data = response.json()\n",
    "    \n",
    "else:\n",
    "    print(f'Failed to retrieve data. Status code: {response.status_code}')"
   ]
  },
  {
   "cell_type": "code",
   "execution_count": 6,
   "id": "73faba45-830a-41ec-97e0-ce94773b0d8b",
   "metadata": {},
   "outputs": [
    {
     "name": "stdout",
     "output_type": "stream",
     "text": [
      "      period duoarea area-name   product        product-name process  \\\n",
      "0    2024-11   YCUOK        NA    EPCWTI       WTI Crude Oil     PF4   \n",
      "1    2024-11     ZEU        NA  EPCBRENT  UK Brent Crude Oil     PF4   \n",
      "2    2024-10   YCUOK        NA    EPCWTI       WTI Crude Oil     PF4   \n",
      "3    2024-10     ZEU        NA  EPCBRENT  UK Brent Crude Oil     PF4   \n",
      "4    2024-09     ZEU        NA  EPCBRENT  UK Brent Crude Oil     PF4   \n",
      "..       ...     ...       ...       ...                 ...     ...   \n",
      "913  1986-05   YCUOK        NA    EPCWTI       WTI Crude Oil     PF4   \n",
      "914  1986-04   YCUOK        NA    EPCWTI       WTI Crude Oil     PF4   \n",
      "915  1986-03   YCUOK        NA    EPCWTI       WTI Crude Oil     PF4   \n",
      "916  1986-02   YCUOK        NA    EPCWTI       WTI Crude Oil     PF4   \n",
      "917  1986-01   YCUOK        NA    EPCWTI       WTI Crude Oil     PF4   \n",
      "\n",
      "       process-name series                                 series-description  \\\n",
      "0    Spot Price FOB   RWTC  Cushing, OK WTI Spot Price FOB (Dollars per Ba...   \n",
      "1    Spot Price FOB  RBRTE   Europe Brent Spot Price FOB (Dollars per Barrel)   \n",
      "2    Spot Price FOB   RWTC  Cushing, OK WTI Spot Price FOB (Dollars per Ba...   \n",
      "3    Spot Price FOB  RBRTE   Europe Brent Spot Price FOB (Dollars per Barrel)   \n",
      "4    Spot Price FOB  RBRTE   Europe Brent Spot Price FOB (Dollars per Barrel)   \n",
      "..              ...    ...                                                ...   \n",
      "913  Spot Price FOB   RWTC  Cushing, OK WTI Spot Price FOB (Dollars per Ba...   \n",
      "914  Spot Price FOB   RWTC  Cushing, OK WTI Spot Price FOB (Dollars per Ba...   \n",
      "915  Spot Price FOB   RWTC  Cushing, OK WTI Spot Price FOB (Dollars per Ba...   \n",
      "916  Spot Price FOB   RWTC  Cushing, OK WTI Spot Price FOB (Dollars per Ba...   \n",
      "917  Spot Price FOB   RWTC  Cushing, OK WTI Spot Price FOB (Dollars per Ba...   \n",
      "\n",
      "     value  units  \n",
      "0    69.95  $/BBL  \n",
      "1    74.35  $/BBL  \n",
      "2    71.99  $/BBL  \n",
      "3    75.63  $/BBL  \n",
      "4    74.02  $/BBL  \n",
      "..     ...    ...  \n",
      "913  15.38  $/BBL  \n",
      "914  12.84  $/BBL  \n",
      "915  12.61  $/BBL  \n",
      "916  15.46  $/BBL  \n",
      "917  22.93  $/BBL  \n",
      "\n",
      "[918 rows x 11 columns]\n"
     ]
    }
   ],
   "source": [
    "# Save requested API JSON data into a dataframe\n",
    "\n",
    "if 'response' in eia_data and 'data' in eia_data['response']:\n",
    "    price_data = eia_data['response']['data']\n",
    "    price_data = pd.DataFrame(price_data)\n",
    "    print(price_data)"
   ]
  },
  {
   "cell_type": "code",
   "execution_count": 7,
   "id": "89647dbd-da40-4012-9e61-963cc2541b94",
   "metadata": {},
   "outputs": [],
   "source": [
    "# Save price data as a raw csv file \n",
    "\n",
    "price_data.to_csv('price_data_raw.csv', header = True, index = False, encoding = 'utf-8')"
   ]
  },
  {
   "cell_type": "code",
   "execution_count": null,
   "id": "8df33592-7f31-406a-a803-4f87cf64ffb6",
   "metadata": {},
   "outputs": [],
   "source": []
  }
 ],
 "metadata": {
  "kernelspec": {
   "display_name": "Python 3 (ipykernel)",
   "language": "python",
   "name": "python3"
  },
  "language_info": {
   "codemirror_mode": {
    "name": "ipython",
    "version": 3
   },
   "file_extension": ".py",
   "mimetype": "text/x-python",
   "name": "python",
   "nbconvert_exporter": "python",
   "pygments_lexer": "ipython3",
   "version": "3.12.4"
  }
 },
 "nbformat": 4,
 "nbformat_minor": 5
}
