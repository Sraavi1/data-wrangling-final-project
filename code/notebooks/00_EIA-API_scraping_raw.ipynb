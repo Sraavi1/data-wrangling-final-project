{
 "cells": [
  {
   "cell_type": "markdown",
   "id": "253e28b1-bbd0-4c1a-8bd0-117545642857",
   "metadata": {},
   "source": [
    "Sraavika Vaddadi \n",
    "<br> \n",
    "11/20/24"
   ]
  },
  {
   "cell_type": "markdown",
   "id": "1733fb12-edf2-40ae-9acf-37b3de653dcb",
   "metadata": {},
   "source": [
    "# **Analysis of Geopolitical Events on Oil Prices**\n",
    "## Part 1 - EIA API Scraping"
   ]
  },
  {
   "cell_type": "code",
   "execution_count": 3,
   "id": "cfeed544-23f0-4f3a-a150-cae9b57d556d",
   "metadata": {},
   "outputs": [],
   "source": [
    "import pandas as pd\n",
    "import requests\n",
    "import json"
   ]
  },
  {
   "cell_type": "code",
   "execution_count": 4,
   "id": "ff206596-c6d8-4126-a75e-4b37ffff5fa1",
   "metadata": {},
   "outputs": [
    {
     "name": "stdout",
     "output_type": "stream",
     "text": [
      "https://api.eia.gov/v2/petroleum/pri/spt/data/?frequency=monthly&data[0]=value&facets[product][]=EPCBRENT&facets[product][]=EPCWTI&start=1986-01&sort[0][column]=period&sort[0][direction]=desc&offset=0&length=5000&api_key=Your API Key\n"
     ]
    }
   ],
   "source": [
    "# Create API url \n",
    "\n",
    "base_url = 'https://api.eia.gov/v2/petroleum/pri/spt/data/?frequency=monthly&data[0]=value&facets[product][]=EPCBRENT&facets[product][]=EPCWTI&start=1986-01&sort[0][column]=period&sort[0][direction]=desc&offset=0&length=5000'\n",
    "api_key = 'Your API Key'\n",
    "\n",
    "url = f'{base_url}&api_key={api_key}'\n",
    "print(url)"
   ]
  },
  {
   "cell_type": "code",
   "execution_count": 5,
   "id": "bf1b6591-b237-4b44-becc-63d68823e098",
   "metadata": {},
   "outputs": [
    {
     "name": "stdout",
     "output_type": "stream",
     "text": [
      "Failed to retrieve data. Status code: 403\n"
     ]
    }
   ],
   "source": [
    "# Request EIA API for data \n",
    "\n",
    "response = requests.get(url)\n",
    "\n",
    "if response.status_code == 200:\n",
    "    eia_data = response.json()\n",
    "    \n",
    "else:\n",
    "    print(f'Failed to retrieve data. Status code: {response.status_code}')"
   ]
  },
  {
   "cell_type": "code",
   "execution_count": 6,
   "id": "73faba45-830a-41ec-97e0-ce94773b0d8b",
   "metadata": {},
   "outputs": [
    {
     "ename": "NameError",
     "evalue": "name 'eia_data' is not defined",
     "output_type": "error",
     "traceback": [
      "\u001b[1;31m---------------------------------------------------------------------------\u001b[0m",
      "\u001b[1;31mNameError\u001b[0m                                 Traceback (most recent call last)",
      "Cell \u001b[1;32mIn[6], line 3\u001b[0m\n\u001b[0;32m      1\u001b[0m \u001b[38;5;66;03m# Save requested API JSON data into a dataframe\u001b[39;00m\n\u001b[1;32m----> 3\u001b[0m \u001b[38;5;28;01mif\u001b[39;00m \u001b[38;5;124m'\u001b[39m\u001b[38;5;124mresponse\u001b[39m\u001b[38;5;124m'\u001b[39m \u001b[38;5;129;01min\u001b[39;00m eia_data \u001b[38;5;129;01mand\u001b[39;00m \u001b[38;5;124m'\u001b[39m\u001b[38;5;124mdata\u001b[39m\u001b[38;5;124m'\u001b[39m \u001b[38;5;129;01min\u001b[39;00m eia_data[\u001b[38;5;124m'\u001b[39m\u001b[38;5;124mresponse\u001b[39m\u001b[38;5;124m'\u001b[39m]:\n\u001b[0;32m      4\u001b[0m     price_data \u001b[38;5;241m=\u001b[39m eia_data[\u001b[38;5;124m'\u001b[39m\u001b[38;5;124mresponse\u001b[39m\u001b[38;5;124m'\u001b[39m][\u001b[38;5;124m'\u001b[39m\u001b[38;5;124mdata\u001b[39m\u001b[38;5;124m'\u001b[39m]\n\u001b[0;32m      5\u001b[0m     price_data \u001b[38;5;241m=\u001b[39m pd\u001b[38;5;241m.\u001b[39mDataFrame(price_data)\n",
      "\u001b[1;31mNameError\u001b[0m: name 'eia_data' is not defined"
     ]
    }
   ],
   "source": [
    "# Save requested API JSON data into a dataframe\n",
    "\n",
    "if 'response' in eia_data and 'data' in eia_data['response']:\n",
    "    price_data = eia_data['response']['data']\n",
    "    price_data = pd.DataFrame(price_data)\n",
    "    print(price_data)"
   ]
  },
  {
   "cell_type": "code",
   "execution_count": null,
   "id": "89647dbd-da40-4012-9e61-963cc2541b94",
   "metadata": {},
   "outputs": [],
   "source": [
    "# Save price data as a raw csv file \n",
    "\n",
    "price_data.to_csv('price_data_raw.csv', header = True, index = False, encoding = 'utf-8')"
   ]
  },
  {
   "cell_type": "code",
   "execution_count": null,
   "id": "8df33592-7f31-406a-a803-4f87cf64ffb6",
   "metadata": {},
   "outputs": [],
   "source": []
  }
 ],
 "metadata": {
  "kernelspec": {
   "display_name": "Python 3 (ipykernel)",
   "language": "python",
   "name": "python3"
  },
  "language_info": {
   "codemirror_mode": {
    "name": "ipython",
    "version": 3
   },
   "file_extension": ".py",
   "mimetype": "text/x-python",
   "name": "python",
   "nbconvert_exporter": "python",
   "pygments_lexer": "ipython3",
   "version": "3.12.4"
  }
 },
 "nbformat": 4,
 "nbformat_minor": 5
}
